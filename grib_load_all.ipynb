{
 "cells": [
  {
   "cell_type": "markdown",
   "id": "kboXJmO5Uu9f",
   "metadata": {
    "id": "kboXJmO5Uu9f"
   },
   "source": [
    "# CAPSTONE: Data Extraction from ERA5 .grib Files\n",
    "\n",
    "**Author: Ishan Singh Bhullar**<br>\n",
    "**Date: 11 December 2022**<br>\n",
    "**Contact: ishanbhullar@gmail.com**<br>\n",
    "\n",
    "*Note: Notebook run on Google Colaboratory due to memory issues on local machine.*"
   ]
  },
  {
   "cell_type": "markdown",
   "id": "VMLlxV4HZR15",
   "metadata": {
    "id": "VMLlxV4HZR15"
   },
   "source": [
    "### Introduction"
   ]
  },
  {
   "cell_type": "markdown",
   "id": "N2o2dX9pUuGx",
   "metadata": {
    "id": "N2o2dX9pUuGx"
   },
   "source": [
    "The dataset containing gridded geopotential (z) and wind (u,v) data was obtained from the Climate Data Store ([https://cds.climate.copernicus.eu/#!/home](https://cds.climate.copernicus.eu/#!/home)) via running a python file to interface with the API. Please refer to README_data.txt for more information. \n",
    "\n",
    "The data ranges from the year 1959 to 1999. Each individual .grib file corresponds to data for everyday of a given year between June and November for the North Atlantic Ocean and parts of North America. The data is bound between latitude (1 to 65) and logitude (2 to -133). The temporal range is from 0000hrs to 2100hrs with an interval of 3 hours. All the variables have readings available for 3 pressure levels 250hPa, 550hPa and 850hPa. The file for each year is  ~3.5 GB in size. The total data is ~140 GB. \n",
    "\n",
    "Given the sheer size of the data and the somewhat obscure format, I had to work with the **Xarray** library ([documentation](https://docs.xarray.dev/en/stable/)) and **cfgrib** python interface ([documentation](https://pypi.org/project/cfgrib/)).\n",
    "\n",
    "At a high level, xarray uses cfgrib as an engine to read the .grib file into a *xarray dataset*. From there, I had to run a loop through the tracks dataset to extract information from the grib file based on time , latitude and longitude. Due to the size of the .grib files and cfrgib's propensity for memory leakage, I had to use Google Colaboratories to extract the relevant information. This meant first uploading all the .grib files to Google Drive.  "
   ]
  },
  {
   "cell_type": "markdown",
   "id": "xTftt0hpZQO3",
   "metadata": {
    "id": "xTftt0hpZQO3"
   },
   "source": [
    "### Colab Commands to Access Files"
   ]
  },
  {
   "cell_type": "code",
   "execution_count": null,
   "id": "yddGcciVMiaz",
   "metadata": {
    "id": "yddGcciVMiaz"
   },
   "outputs": [],
   "source": [
    "# to upload files from local system\n",
    "from google.colab import files"
   ]
  },
  {
   "cell_type": "code",
   "execution_count": null,
   "id": "caDpFEw4Urjo",
   "metadata": {
    "colab": {
     "base_uri": "https://localhost:8080/"
    },
    "id": "caDpFEw4Urjo",
    "outputId": "2cfa0cdd-6bd3-47f0-b248-acc02b639e36"
   },
   "outputs": [
    {
     "name": "stdout",
     "output_type": "stream",
     "text": [
      "Mounted at /content/drive\n"
     ]
    }
   ],
   "source": [
    "# to access and use files on google drive\n",
    "from google.colab import drive\n",
    "drive.mount('/content/drive')"
   ]
  },
  {
   "cell_type": "markdown",
   "id": "6qu0F-5IZW6S",
   "metadata": {
    "id": "6qu0F-5IZW6S"
   },
   "source": [
    "### Installing XARRAY and CFGRIB (with required dependencies)"
   ]
  },
  {
   "cell_type": "code",
   "execution_count": null,
   "id": "R8caEukBzBw-",
   "metadata": {
    "colab": {
     "base_uri": "https://localhost:8080/"
    },
    "id": "R8caEukBzBw-",
    "outputId": "99db482c-1c18-4959-8524-9d38ba1f3097"
   },
   "outputs": [
    {
     "name": "stdout",
     "output_type": "stream",
     "text": [
      "Looking in indexes: https://pypi.org/simple, https://us-python.pkg.dev/colab-wheels/public/simple/\n",
      "Collecting ecmwflibs\n",
      "  Downloading ecmwflibs-0.5.0-cp38-cp38-manylinux_2_17_x86_64.manylinux2014_x86_64.whl (74.4 MB)\n",
      "\u001b[K     |████████████████████████████████| 74.4 MB 1.2 MB/s \n",
      "\u001b[?25hCollecting findlibs\n",
      "  Downloading findlibs-0.0.2.tar.gz (6.2 kB)\n",
      "Building wheels for collected packages: findlibs\n",
      "  Building wheel for findlibs (setup.py) ... \u001b[?25l\u001b[?25hdone\n",
      "  Created wheel for findlibs: filename=findlibs-0.0.2-py3-none-any.whl size=6559 sha256=38f2310852e83c46d44482f5a6c8a704c9f8a84d659fbea1612411659d74e581\n",
      "  Stored in directory: /root/.cache/pip/wheels/16/e7/71/9deaff72c4a92f111cbc38631e0829b26398ee3599aec65b1b\n",
      "Successfully built findlibs\n",
      "Installing collected packages: findlibs, ecmwflibs\n",
      "Successfully installed ecmwflibs-0.5.0 findlibs-0.0.2\n"
     ]
    }
   ],
   "source": [
    "!pip install ecmwflibs"
   ]
  },
  {
   "cell_type": "code",
   "execution_count": null,
   "id": "ap-dzD4rzGVs",
   "metadata": {
    "colab": {
     "base_uri": "https://localhost:8080/"
    },
    "id": "ap-dzD4rzGVs",
    "outputId": "7e3bad5b-3362-4f34-bcbb-7282b4eda797"
   },
   "outputs": [
    {
     "name": "stdout",
     "output_type": "stream",
     "text": [
      "Looking in indexes: https://pypi.org/simple, https://us-python.pkg.dev/colab-wheels/public/simple/\n",
      "Collecting eccodes==1.3.1\n",
      "  Downloading eccodes-1.3.1.tar.gz (53 kB)\n",
      "\u001b[K     |████████████████████████████████| 53 kB 1.4 MB/s \n",
      "\u001b[?25hRequirement already satisfied: numpy in /usr/local/lib/python3.8/dist-packages (from eccodes==1.3.1) (1.21.6)\n",
      "Requirement already satisfied: attrs in /usr/local/lib/python3.8/dist-packages (from eccodes==1.3.1) (22.1.0)\n",
      "Requirement already satisfied: cffi in /usr/local/lib/python3.8/dist-packages (from eccodes==1.3.1) (1.15.1)\n",
      "Requirement already satisfied: findlibs in /usr/local/lib/python3.8/dist-packages (from eccodes==1.3.1) (0.0.2)\n",
      "Requirement already satisfied: pycparser in /usr/local/lib/python3.8/dist-packages (from cffi->eccodes==1.3.1) (2.21)\n",
      "Building wheels for collected packages: eccodes\n",
      "  Building wheel for eccodes (setup.py) ... \u001b[?25l\u001b[?25hdone\n",
      "  Created wheel for eccodes: filename=eccodes-1.3.1-py3-none-any.whl size=39052 sha256=5460d4aa043c3a7e198219d57231b610e96b4845f5bf288d42464fe67134db24\n",
      "  Stored in directory: /root/.cache/pip/wheels/58/45/ca/4d59fd6803aca50abdd251a9eb2eead51c9bcf24a796905b13\n",
      "Successfully built eccodes\n",
      "Installing collected packages: eccodes\n",
      "Successfully installed eccodes-1.3.1\n"
     ]
    }
   ],
   "source": [
    "!pip install eccodes==1.3.1"
   ]
  },
  {
   "cell_type": "code",
   "execution_count": null,
   "id": "yqyRh45H70hv",
   "metadata": {
    "colab": {
     "base_uri": "https://localhost:8080/"
    },
    "id": "yqyRh45H70hv",
    "outputId": "d4bcce04-9709-49b6-8096-9cb394fff2d3"
   },
   "outputs": [
    {
     "name": "stdout",
     "output_type": "stream",
     "text": [
      "Looking in indexes: https://pypi.org/simple, https://us-python.pkg.dev/colab-wheels/public/simple/\n",
      "Collecting importlib-metadata==4.0.1\n",
      "  Downloading importlib_metadata-4.0.1-py3-none-any.whl (16 kB)\n",
      "Requirement already satisfied: zipp>=0.5 in /usr/local/lib/python3.8/dist-packages (from importlib-metadata==4.0.1) (3.11.0)\n",
      "Installing collected packages: importlib-metadata\n",
      "  Attempting uninstall: importlib-metadata\n",
      "    Found existing installation: importlib-metadata 4.13.0\n",
      "    Uninstalling importlib-metadata-4.13.0:\n",
      "      Successfully uninstalled importlib-metadata-4.13.0\n",
      "\u001b[31mERROR: pip's dependency resolver does not currently take into account all the packages that are installed. This behaviour is the source of the following dependency conflicts.\n",
      "markdown 3.4.1 requires importlib-metadata>=4.4; python_version < \"3.10\", but you have importlib-metadata 4.0.1 which is incompatible.\n",
      "gym 0.25.2 requires importlib-metadata>=4.8.0; python_version < \"3.10\", but you have importlib-metadata 4.0.1 which is incompatible.\u001b[0m\n",
      "Successfully installed importlib-metadata-4.0.1\n"
     ]
    }
   ],
   "source": [
    "!pip install importlib-metadata==4.0.1"
   ]
  },
  {
   "cell_type": "code",
   "execution_count": null,
   "id": "V8PuZzre77yv",
   "metadata": {
    "colab": {
     "base_uri": "https://localhost:8080/"
    },
    "id": "V8PuZzre77yv",
    "outputId": "be4bc53d-444f-4204-ae3d-8c346dd4aa0f"
   },
   "outputs": [
    {
     "name": "stdout",
     "output_type": "stream",
     "text": [
      "Looking in indexes: https://pypi.org/simple, https://us-python.pkg.dev/colab-wheels/public/simple/\n",
      "Collecting xarray==0.18.1\n",
      "  Downloading xarray-0.18.1-py3-none-any.whl (807 kB)\n",
      "\u001b[K     |████████████████████████████████| 807 kB 5.0 MB/s \n",
      "\u001b[?25hRequirement already satisfied: pandas>=1.0 in /usr/local/lib/python3.8/dist-packages (from xarray==0.18.1) (1.3.5)\n",
      "Requirement already satisfied: numpy>=1.17 in /usr/local/lib/python3.8/dist-packages (from xarray==0.18.1) (1.21.6)\n",
      "Requirement already satisfied: setuptools>=40.4 in /usr/local/lib/python3.8/dist-packages (from xarray==0.18.1) (57.4.0)\n",
      "Requirement already satisfied: pytz>=2017.3 in /usr/local/lib/python3.8/dist-packages (from pandas>=1.0->xarray==0.18.1) (2022.6)\n",
      "Requirement already satisfied: python-dateutil>=2.7.3 in /usr/local/lib/python3.8/dist-packages (from pandas>=1.0->xarray==0.18.1) (2.8.2)\n",
      "Requirement already satisfied: six>=1.5 in /usr/local/lib/python3.8/dist-packages (from python-dateutil>=2.7.3->pandas>=1.0->xarray==0.18.1) (1.15.0)\n",
      "Installing collected packages: xarray\n",
      "  Attempting uninstall: xarray\n",
      "    Found existing installation: xarray 0.20.2\n",
      "    Uninstalling xarray-0.20.2:\n",
      "      Successfully uninstalled xarray-0.20.2\n",
      "Successfully installed xarray-0.18.1\n"
     ]
    }
   ],
   "source": [
    "!pip install xarray==0.18.1"
   ]
  },
  {
   "cell_type": "code",
   "execution_count": null,
   "id": "1bk4VQGhxoh-",
   "metadata": {
    "colab": {
     "base_uri": "https://localhost:8080/"
    },
    "id": "1bk4VQGhxoh-",
    "outputId": "f2be35be-fc66-4d77-e727-1c2b8dd452db"
   },
   "outputs": [
    {
     "name": "stdout",
     "output_type": "stream",
     "text": [
      "Looking in indexes: https://pypi.org/simple, https://us-python.pkg.dev/colab-wheels/public/simple/\n",
      "Collecting cfgrib\n",
      "  Downloading cfgrib-0.9.10.3.tar.gz (6.4 MB)\n",
      "\u001b[K     |████████████████████████████████| 6.4 MB 5.1 MB/s \n",
      "\u001b[?25h  Installing build dependencies ... \u001b[?25l\u001b[?25hdone\n",
      "  Getting requirements to build wheel ... \u001b[?25l\u001b[?25hdone\n",
      "    Preparing wheel metadata ... \u001b[?25l\u001b[?25hdone\n",
      "Requirement already satisfied: numpy in /usr/local/lib/python3.8/dist-packages (from cfgrib) (1.21.6)\n",
      "Requirement already satisfied: click in /usr/local/lib/python3.8/dist-packages (from cfgrib) (7.1.2)\n",
      "Requirement already satisfied: attrs>=19.2 in /usr/local/lib/python3.8/dist-packages (from cfgrib) (22.1.0)\n",
      "Requirement already satisfied: eccodes>=0.9.8 in /usr/local/lib/python3.8/dist-packages (from cfgrib) (1.3.1)\n",
      "Requirement already satisfied: findlibs in /usr/local/lib/python3.8/dist-packages (from eccodes>=0.9.8->cfgrib) (0.0.2)\n",
      "Requirement already satisfied: cffi in /usr/local/lib/python3.8/dist-packages (from eccodes>=0.9.8->cfgrib) (1.15.1)\n",
      "Requirement already satisfied: pycparser in /usr/local/lib/python3.8/dist-packages (from cffi->eccodes>=0.9.8->cfgrib) (2.21)\n",
      "Building wheels for collected packages: cfgrib\n",
      "  Building wheel for cfgrib (PEP 517) ... \u001b[?25l\u001b[?25hdone\n",
      "  Created wheel for cfgrib: filename=cfgrib-0.9.10.3-py3-none-any.whl size=46719 sha256=6abc102b291950f6275a6de31f5cdcbb35c62975c02f9dfe4c0938c7dd19ae24\n",
      "  Stored in directory: /root/.cache/pip/wheels/27/28/8d/8b2e992d2d03933d9b1a04f20b7c157d22de6efabf3df4e48e\n",
      "Successfully built cfgrib\n",
      "Installing collected packages: cfgrib\n",
      "Successfully installed cfgrib-0.9.10.3\n"
     ]
    }
   ],
   "source": [
    "!pip install cfgrib"
   ]
  },
  {
   "cell_type": "markdown",
   "id": "lcI0dOnTZ_ZR",
   "metadata": {
    "id": "lcI0dOnTZ_ZR"
   },
   "source": [
    "### Importing Relevant Libraries"
   ]
  },
  {
   "cell_type": "code",
   "execution_count": null,
   "id": "7217ea27",
   "metadata": {
    "id": "7217ea27"
   },
   "outputs": [],
   "source": [
    "import xarray as xr\n",
    "import cfgrib\n",
    "import numpy as np\n",
    "import pandas as pd\n",
    "import matplotlib.pyplot as plt\n",
    "from datetime import datetime "
   ]
  },
  {
   "cell_type": "code",
   "execution_count": null,
   "id": "c43cd713",
   "metadata": {
    "id": "c43cd713"
   },
   "outputs": [],
   "source": [
    "from tqdm import tqdm\n",
    "import time\n",
    "import warnings\n",
    "warnings.filterwarnings(\"ignore\")"
   ]
  },
  {
   "cell_type": "markdown",
   "id": "QMeKhTeUUb6F",
   "metadata": {
    "id": "QMeKhTeUUb6F"
   },
   "source": [
    "-------------------"
   ]
  },
  {
   "cell_type": "markdown",
   "id": "8JdoHAS4abUj",
   "metadata": {
    "id": "8JdoHAS4abUj"
   },
   "source": [
    "### Main Code\n",
    "\n",
    "Let's start with reading the cleaned tracks data."
   ]
  },
  {
   "cell_type": "code",
   "execution_count": null,
   "id": "q5ZahZo1PIAp",
   "metadata": {
    "id": "q5ZahZo1PIAp"
   },
   "outputs": [],
   "source": [
    "tracks_df = pd.read_csv(\"drive/My Drive/Capdata/capstone_track_data.csv\", index_col=0)\n",
    "\n",
    "# converting to standard datetime format\n",
    "tracks_df['iso_time'] = pd.to_datetime(tracks_df['iso_time'])"
   ]
  },
  {
   "cell_type": "markdown",
   "id": "QUdB1YmWQIxS",
   "metadata": {
    "id": "QUdB1YmWQIxS"
   },
   "source": [
    "The grib data we have pulled is only valid for months 6 to 11 as that is the peak season for Tropical cyclones. So I will clip the main tracks dataframe to only include data for months 6-11. Further, in interest of having equal time intervals within each storm, we will keep readings with a hour value of 0000hrs to 2100hrs with an interval of 3 hours. "
   ]
  },
  {
   "cell_type": "code",
   "execution_count": null,
   "id": "VnB8UkSgQIIA",
   "metadata": {
    "colab": {
     "base_uri": "https://localhost:8080/"
    },
    "id": "VnB8UkSgQIIA",
    "outputId": "1bb145e2-e78e-4a73-f047-b64e5474dc2a"
   },
   "outputs": [
    {
     "name": "stdout",
     "output_type": "stream",
     "text": [
      "<class 'pandas.core.frame.DataFrame'>\n",
      "Int64Index: 48642 entries, 31 to 50592\n",
      "Data columns (total 14 columns):\n",
      " #   Column       Non-Null Count  Dtype         \n",
      "---  ------       --------------  -----         \n",
      " 0   sid          48642 non-null  object        \n",
      " 1   season       48642 non-null  int64         \n",
      " 2   number       48642 non-null  int64         \n",
      " 3   name         48642 non-null  object        \n",
      " 4   iso_time     48642 non-null  datetime64[ns]\n",
      " 5   lat          48642 non-null  float64       \n",
      " 6   lon          48642 non-null  float64       \n",
      " 7   dist2land    48642 non-null  int64         \n",
      " 8   usa_status   48642 non-null  object        \n",
      " 9   usa_wind     48642 non-null  float64       \n",
      " 10  usa_pres     48642 non-null  float64       \n",
      " 11  usa_sshs     48642 non-null  int64         \n",
      " 12  storm_speed  48642 non-null  int64         \n",
      " 13  storm_dir    48642 non-null  int64         \n",
      "dtypes: datetime64[ns](1), float64(4), int64(6), object(3)\n",
      "memory usage: 5.6+ MB\n"
     ]
    }
   ],
   "source": [
    "hours_list = [0, 3, 6, 9, 12, 15, 18, 21] # list of valid hour values\n",
    "\n",
    "# filtering data based on hours and months\n",
    "tracks_df = tracks_df[(tracks_df['iso_time'].dt.month >= 6) & (tracks_df['iso_time'].dt.month <= 11)]\n",
    "tracks_df = tracks_df[(tracks_df['iso_time'].dt.hour.isin(hours_list)) & (tracks_df['iso_time'].dt.minute == 0)]\n",
    "tracks_df.info()"
   ]
  },
  {
   "cell_type": "code",
   "execution_count": null,
   "id": "F1NwoVHNNiho",
   "metadata": {
    "colab": {
     "base_uri": "https://localhost:8080/"
    },
    "id": "F1NwoVHNNiho",
    "outputId": "c663f233-2d3e-49ad-c0d7-556d05efccb7"
   },
   "outputs": [
    {
     "name": "stdout",
     "output_type": "stream",
     "text": [
      "Loop for Year: 1963\n"
     ]
    },
    {
     "name": "stderr",
     "output_type": "stream",
     "text": [
      "100%|██████████| 577/577 [00:24<00:00, 23.25it/s]\n",
      "100%|██████████| 577/577 [00:24<00:00, 23.69it/s]\n",
      "100%|██████████| 577/577 [00:24<00:00, 23.88it/s]\n"
     ]
    },
    {
     "name": "stdout",
     "output_type": "stream",
     "text": [
      "Loop for Year: 1964\n"
     ]
    },
    {
     "name": "stderr",
     "output_type": "stream",
     "text": [
      "100%|██████████| 797/797 [00:37<00:00, 21.15it/s]\n",
      "100%|██████████| 797/797 [00:34<00:00, 23.11it/s]\n",
      "100%|██████████| 797/797 [00:42<00:00, 18.55it/s]\n"
     ]
    },
    {
     "name": "stdout",
     "output_type": "stream",
     "text": [
      "Loop for Year: 1965\n"
     ]
    },
    {
     "name": "stderr",
     "output_type": "stream",
     "text": [
      "100%|██████████| 465/465 [00:21<00:00, 22.00it/s]\n",
      "100%|██████████| 465/465 [00:19<00:00, 23.93it/s]\n",
      "100%|██████████| 465/465 [00:19<00:00, 23.34it/s]\n"
     ]
    },
    {
     "name": "stdout",
     "output_type": "stream",
     "text": [
      "Loop for Year: 1966\n"
     ]
    },
    {
     "name": "stderr",
     "output_type": "stream",
     "text": [
      "100%|██████████| 882/882 [00:39<00:00, 22.45it/s]\n",
      "100%|██████████| 882/882 [00:41<00:00, 21.25it/s]\n",
      "100%|██████████| 882/882 [00:37<00:00, 23.47it/s]\n"
     ]
    },
    {
     "name": "stdout",
     "output_type": "stream",
     "text": [
      "Loop for Year: 1967\n"
     ]
    },
    {
     "name": "stderr",
     "output_type": "stream",
     "text": [
      "100%|██████████| 1217/1217 [00:53<00:00, 22.64it/s]\n",
      "100%|██████████| 1217/1217 [00:51<00:00, 23.83it/s]\n",
      "100%|██████████| 1217/1217 [00:51<00:00, 23.82it/s]\n"
     ]
    },
    {
     "name": "stdout",
     "output_type": "stream",
     "text": [
      "Loop for Year: 1968\n"
     ]
    },
    {
     "name": "stderr",
     "output_type": "stream",
     "text": [
      "100%|██████████| 585/585 [00:29<00:00, 19.63it/s]\n",
      "100%|██████████| 585/585 [00:24<00:00, 23.50it/s]\n",
      "100%|██████████| 585/585 [00:31<00:00, 18.57it/s]\n"
     ]
    },
    {
     "name": "stdout",
     "output_type": "stream",
     "text": [
      "Loop for Year: 1969\n"
     ]
    },
    {
     "name": "stderr",
     "output_type": "stream",
     "text": [
      "100%|██████████| 1230/1230 [00:51<00:00, 23.79it/s]\n",
      "100%|██████████| 1230/1230 [00:51<00:00, 23.92it/s]\n",
      "100%|██████████| 1230/1230 [00:52<00:00, 23.52it/s]\n"
     ]
    },
    {
     "name": "stdout",
     "output_type": "stream",
     "text": [
      "Loop for Year: 1970\n"
     ]
    },
    {
     "name": "stderr",
     "output_type": "stream",
     "text": [
      "100%|██████████| 956/956 [00:41<00:00, 22.86it/s]\n",
      "100%|██████████| 956/956 [00:40<00:00, 23.90it/s]\n",
      "100%|██████████| 956/956 [00:39<00:00, 24.26it/s]\n"
     ]
    },
    {
     "name": "stdout",
     "output_type": "stream",
     "text": [
      "Loop for Year: 1971\n"
     ]
    },
    {
     "name": "stderr",
     "output_type": "stream",
     "text": [
      "100%|██████████| 1227/1227 [00:59<00:00, 20.71it/s]\n",
      "100%|██████████| 1227/1227 [00:51<00:00, 23.71it/s]\n",
      "100%|██████████| 1227/1227 [00:55<00:00, 22.14it/s]\n"
     ]
    },
    {
     "name": "stdout",
     "output_type": "stream",
     "text": [
      "Loop for Year: 1972\n"
     ]
    },
    {
     "name": "stderr",
     "output_type": "stream",
     "text": [
      "100%|██████████| 672/672 [00:30<00:00, 21.95it/s]\n",
      "100%|██████████| 672/672 [00:29<00:00, 23.11it/s]\n",
      "100%|██████████| 672/672 [00:28<00:00, 23.66it/s]\n"
     ]
    },
    {
     "name": "stdout",
     "output_type": "stream",
     "text": [
      "Loop for Year: 1973\n"
     ]
    },
    {
     "name": "stderr",
     "output_type": "stream",
     "text": [
      "100%|██████████| 560/560 [00:25<00:00, 22.06it/s]\n",
      "100%|██████████| 560/560 [00:23<00:00, 23.53it/s]\n",
      "100%|██████████| 560/560 [00:23<00:00, 23.99it/s]\n"
     ]
    },
    {
     "name": "stdout",
     "output_type": "stream",
     "text": [
      "Loop for Year: 1974\n"
     ]
    },
    {
     "name": "stderr",
     "output_type": "stream",
     "text": [
      "100%|██████████| 788/788 [00:35<00:00, 22.45it/s]\n",
      "100%|██████████| 788/788 [00:32<00:00, 24.04it/s]\n",
      "100%|██████████| 788/788 [00:32<00:00, 24.19it/s]\n"
     ]
    },
    {
     "name": "stdout",
     "output_type": "stream",
     "text": [
      "Loop for Year: 1975\n"
     ]
    },
    {
     "name": "stderr",
     "output_type": "stream",
     "text": [
      "100%|██████████| 836/836 [00:36<00:00, 23.15it/s]\n",
      "100%|██████████| 836/836 [00:34<00:00, 24.16it/s]\n",
      "100%|██████████| 836/836 [00:34<00:00, 23.99it/s]\n"
     ]
    },
    {
     "name": "stdout",
     "output_type": "stream",
     "text": [
      "Loop for Year: 1976\n"
     ]
    },
    {
     "name": "stderr",
     "output_type": "stream",
     "text": [
      "100%|██████████| 755/755 [00:44<00:00, 16.86it/s]\n",
      "100%|██████████| 755/755 [00:32<00:00, 23.07it/s]\n",
      "100%|██████████| 755/755 [00:31<00:00, 23.99it/s]\n"
     ]
    },
    {
     "name": "stdout",
     "output_type": "stream",
     "text": [
      "Loop for Year: 1977\n"
     ]
    },
    {
     "name": "stderr",
     "output_type": "stream",
     "text": [
      "100%|██████████| 322/322 [00:14<00:00, 22.77it/s]\n",
      "100%|██████████| 322/322 [00:13<00:00, 23.86it/s]\n",
      "100%|██████████| 322/322 [00:13<00:00, 24.09it/s]\n"
     ]
    },
    {
     "name": "stdout",
     "output_type": "stream",
     "text": [
      "Loop for Year: 1978\n"
     ]
    },
    {
     "name": "stderr",
     "output_type": "stream",
     "text": [
      "100%|██████████| 819/819 [00:34<00:00, 23.55it/s]\n",
      "100%|██████████| 819/819 [00:33<00:00, 24.30it/s]\n",
      "100%|██████████| 819/819 [00:33<00:00, 24.45it/s]\n"
     ]
    },
    {
     "name": "stdout",
     "output_type": "stream",
     "text": [
      "Loop for Year: 1979\n"
     ]
    },
    {
     "name": "stderr",
     "output_type": "stream",
     "text": [
      "100%|██████████| 1062/1062 [00:45<00:00, 23.14it/s]\n",
      "100%|██████████| 1062/1062 [00:43<00:00, 24.31it/s]\n",
      "100%|██████████| 1062/1062 [00:44<00:00, 24.13it/s]\n"
     ]
    },
    {
     "name": "stdout",
     "output_type": "stream",
     "text": [
      "Loop for Year: 1980\n"
     ]
    },
    {
     "name": "stderr",
     "output_type": "stream",
     "text": [
      "100%|██████████| 865/865 [00:38<00:00, 22.73it/s]\n",
      "100%|██████████| 865/865 [00:43<00:00, 20.06it/s]\n",
      "100%|██████████| 865/865 [00:37<00:00, 23.37it/s]\n"
     ]
    },
    {
     "name": "stdout",
     "output_type": "stream",
     "text": [
      "Loop for Year: 1981\n"
     ]
    },
    {
     "name": "stderr",
     "output_type": "stream",
     "text": [
      "100%|██████████| 858/858 [00:36<00:00, 23.70it/s]\n",
      "100%|██████████| 858/858 [00:35<00:00, 24.25it/s]\n",
      "100%|██████████| 858/858 [00:35<00:00, 24.15it/s]\n"
     ]
    },
    {
     "name": "stdout",
     "output_type": "stream",
     "text": [
      "Loop for Year: 1982\n"
     ]
    },
    {
     "name": "stderr",
     "output_type": "stream",
     "text": [
      "100%|██████████| 295/295 [00:13<00:00, 21.94it/s]\n",
      "100%|██████████| 295/295 [00:12<00:00, 23.77it/s]\n",
      "100%|██████████| 295/295 [00:12<00:00, 24.20it/s]\n"
     ]
    },
    {
     "name": "stdout",
     "output_type": "stream",
     "text": [
      "Loop for Year: 1983\n"
     ]
    },
    {
     "name": "stderr",
     "output_type": "stream",
     "text": [
      "100%|██████████| 249/249 [00:11<00:00, 21.38it/s]\n",
      "100%|██████████| 249/249 [00:10<00:00, 23.92it/s]\n",
      "100%|██████████| 249/249 [00:10<00:00, 24.16it/s]\n"
     ]
    },
    {
     "name": "stdout",
     "output_type": "stream",
     "text": [
      "Loop for Year: 1984\n"
     ]
    },
    {
     "name": "stderr",
     "output_type": "stream",
     "text": [
      "100%|██████████| 731/731 [00:35<00:00, 20.79it/s]\n",
      "100%|██████████| 731/731 [00:30<00:00, 23.84it/s]\n",
      "100%|██████████| 731/731 [00:30<00:00, 23.82it/s]\n"
     ]
    },
    {
     "name": "stdout",
     "output_type": "stream",
     "text": [
      "Loop for Year: 1985\n"
     ]
    },
    {
     "name": "stderr",
     "output_type": "stream",
     "text": [
      "100%|██████████| 639/639 [00:28<00:00, 22.47it/s]\n",
      "100%|██████████| 639/639 [00:28<00:00, 22.71it/s]\n",
      "100%|██████████| 639/639 [00:50<00:00, 12.57it/s]\n"
     ]
    },
    {
     "name": "stdout",
     "output_type": "stream",
     "text": [
      "Loop for Year: 1986\n"
     ]
    },
    {
     "name": "stderr",
     "output_type": "stream",
     "text": [
      "100%|██████████| 368/368 [00:18<00:00, 19.83it/s]\n",
      "100%|██████████| 368/368 [00:19<00:00, 18.46it/s]\n",
      "100%|██████████| 368/368 [00:17<00:00, 20.85it/s]\n"
     ]
    },
    {
     "name": "stdout",
     "output_type": "stream",
     "text": [
      "Loop for Year: 1987\n"
     ]
    },
    {
     "name": "stderr",
     "output_type": "stream",
     "text": [
      "100%|██████████| 621/621 [00:27<00:00, 22.51it/s]\n",
      "100%|██████████| 621/621 [00:26<00:00, 23.44it/s]\n",
      "100%|██████████| 621/621 [00:25<00:00, 23.96it/s]\n"
     ]
    },
    {
     "name": "stdout",
     "output_type": "stream",
     "text": [
      "Loop for Year: 1988\n"
     ]
    },
    {
     "name": "stderr",
     "output_type": "stream",
     "text": [
      "100%|██████████| 862/862 [00:37<00:00, 23.04it/s]\n",
      "100%|██████████| 862/862 [00:36<00:00, 23.87it/s]\n",
      "100%|██████████| 862/862 [00:46<00:00, 18.45it/s]\n"
     ]
    },
    {
     "name": "stdout",
     "output_type": "stream",
     "text": [
      "Loop for Year: 1989\n"
     ]
    },
    {
     "name": "stderr",
     "output_type": "stream",
     "text": [
      "100%|██████████| 780/780 [00:37<00:00, 20.85it/s]\n",
      "100%|██████████| 780/780 [00:34<00:00, 22.34it/s]\n",
      "100%|██████████| 780/780 [00:40<00:00, 19.37it/s]\n"
     ]
    },
    {
     "name": "stdout",
     "output_type": "stream",
     "text": [
      "Loop for Year: 1990\n"
     ]
    },
    {
     "name": "stderr",
     "output_type": "stream",
     "text": [
      "100%|██████████| 937/937 [00:39<00:00, 23.56it/s]\n",
      "100%|██████████| 937/937 [00:38<00:00, 24.10it/s]\n",
      "100%|██████████| 937/937 [00:38<00:00, 24.05it/s]\n"
     ]
    },
    {
     "name": "stdout",
     "output_type": "stream",
     "text": [
      "Loop for Year: 1991\n"
     ]
    },
    {
     "name": "stderr",
     "output_type": "stream",
     "text": [
      "100%|██████████| 341/341 [00:18<00:00, 18.25it/s]\n",
      "100%|██████████| 341/341 [00:14<00:00, 24.11it/s]\n",
      "100%|██████████| 341/341 [00:14<00:00, 24.19it/s]\n"
     ]
    },
    {
     "name": "stdout",
     "output_type": "stream",
     "text": [
      "Loop for Year: 1992\n"
     ]
    },
    {
     "name": "stderr",
     "output_type": "stream",
     "text": [
      "100%|██████████| 441/441 [00:18<00:00, 23.86it/s]\n",
      "100%|██████████| 441/441 [00:18<00:00, 23.80it/s]\n",
      "100%|██████████| 441/441 [00:18<00:00, 24.16it/s]\n"
     ]
    },
    {
     "name": "stdout",
     "output_type": "stream",
     "text": [
      "Loop for Year: 1993\n"
     ]
    },
    {
     "name": "stderr",
     "output_type": "stream",
     "text": [
      "100%|██████████| 426/426 [00:19<00:00, 21.37it/s]\n",
      "100%|██████████| 426/426 [00:18<00:00, 23.50it/s]\n",
      "100%|██████████| 426/426 [00:17<00:00, 23.86it/s]\n"
     ]
    },
    {
     "name": "stdout",
     "output_type": "stream",
     "text": [
      "Loop for Year: 1994\n"
     ]
    },
    {
     "name": "stderr",
     "output_type": "stream",
     "text": [
      "100%|██████████| 438/438 [00:19<00:00, 22.76it/s]\n",
      "100%|██████████| 438/438 [00:18<00:00, 23.93it/s]\n",
      "100%|██████████| 438/438 [00:18<00:00, 24.15it/s]\n"
     ]
    },
    {
     "name": "stdout",
     "output_type": "stream",
     "text": [
      "Loop for Year: 1995\n"
     ]
    },
    {
     "name": "stderr",
     "output_type": "stream",
     "text": [
      "100%|██████████| 1256/1256 [00:55<00:00, 22.48it/s]\n",
      "100%|██████████| 1256/1256 [00:54<00:00, 23.09it/s]\n",
      "100%|██████████| 1256/1256 [00:52<00:00, 23.87it/s]\n"
     ]
    },
    {
     "name": "stdout",
     "output_type": "stream",
     "text": [
      "Loop for Year: 1996\n"
     ]
    },
    {
     "name": "stderr",
     "output_type": "stream",
     "text": [
      "100%|██████████| 897/897 [00:40<00:00, 22.00it/s]\n",
      "100%|██████████| 897/897 [00:37<00:00, 23.99it/s]\n",
      "100%|██████████| 897/897 [00:37<00:00, 24.02it/s]\n"
     ]
    },
    {
     "name": "stdout",
     "output_type": "stream",
     "text": [
      "Loop for Year: 1997\n"
     ]
    },
    {
     "name": "stderr",
     "output_type": "stream",
     "text": [
      "100%|██████████| 331/331 [00:16<00:00, 20.61it/s]\n",
      "100%|██████████| 331/331 [00:13<00:00, 24.20it/s]\n",
      "100%|██████████| 331/331 [00:13<00:00, 24.02it/s]\n"
     ]
    },
    {
     "name": "stdout",
     "output_type": "stream",
     "text": [
      "Loop for Year: 1998\n"
     ]
    },
    {
     "name": "stderr",
     "output_type": "stream",
     "text": [
      "100%|██████████| 867/867 [00:37<00:00, 23.23it/s]\n",
      "100%|██████████| 867/867 [00:35<00:00, 24.34it/s]\n",
      "100%|██████████| 867/867 [00:35<00:00, 24.11it/s]\n"
     ]
    },
    {
     "name": "stdout",
     "output_type": "stream",
     "text": [
      "Loop for Year: 1999\n"
     ]
    },
    {
     "name": "stderr",
     "output_type": "stream",
     "text": [
      "100%|██████████| 839/839 [00:36<00:00, 23.14it/s]\n",
      "100%|██████████| 839/839 [00:35<00:00, 23.94it/s]\n",
      "100%|██████████| 839/839 [00:41<00:00, 20.43it/s]\n"
     ]
    }
   ],
   "source": [
    "start_year = 1959 # starting year of .grib files\n",
    "end_year = 1999 # starting year of .grib files\n",
    "pres_levels = [250, 550, 850] # three pressure levels for the .grib data\n",
    "\n",
    "for year in range(start_year, end_year + 1):\n",
    "  print(f'Loop for Year: {year}')\n",
    "  grib_data = xr.open_dataset(\"drive/My Drive/Capdata/era5_\"+str(year)+\".grib\", engine='cfgrib', backend_kwargs={'indexpath': ''})\n",
    "\n",
    "  # clip tracks_df based on the year value from `iso_time` column\n",
    "  clip_df = tracks_df[(tracks_df['iso_time'].dt.year == year)]\n",
    "\n",
    "  # loop for pressure levels\n",
    "  for level in pres_levels:\n",
    "\n",
    "      # create empty lists to store variables from grib_data\n",
    "      geo_z = [] # geopotential\n",
    "      wind_u = [] # horizontal component of wind\n",
    "      wind_v = [] # vertical component of wind\n",
    "\n",
    "      # loop to cycle through the clips_df dataframe row by row and extract values from grib_data based on `time`, `lat` and `lon`\n",
    "      for row in tqdm(clip_df.index):\n",
    "  \n",
    "          time = clip_df['iso_time'][row]\n",
    "          lat = round(clip_df['lat'][row])\n",
    "          lon = round(clip_df['lon'][row])\n",
    "\n",
    "          # extracting data from grib_data, converting it to a numpy array and flattening it to get scalar value\n",
    "          z = np.asarray(np.mean(grib_data.loc[dict(time=str(time),\n",
    "                                                    isobaricInhPa=level, latitude=range(lat-2, lat+3), longitude=range(lon-2, lon+3))]['z'])).flat[0]\n",
    "          geo_z.append(z)\n",
    "          u = np.asarray(np.mean(grib_data.loc[dict(time=str(time),\n",
    "                                                    isobaricInhPa=level, latitude=range(lat-2, lat+3),\n",
    "                                                    longitude=range(lon-2, lon+3))]['u'])).flat[0]\n",
    "          wind_u.append(u)\n",
    "          v = np.asarray(np.mean(grib_data.loc[dict(time=str(time),\n",
    "                                                    isobaricInhPa=level, latitude=range(lat-2, lat+3),\n",
    "                                                    longitude=range(lon-2, lon+3))]['v'])).flat[0]\n",
    "          wind_v.append(v)\n",
    "      \n",
    "      # adding extracted list of values from grib_data to clip_df as a new column\n",
    "      clip_df['geo_'+str(level)] = geo_z\n",
    "      clip_df['u_wind_'+str(level)] = wind_u\n",
    "      clip_df['v_wind_'+str(level)] = wind_v\n",
    "\n",
    "  clip_df.to_csv('drive/My Drive/Capdata/csvFiles/'+str(year)+'_data.csv')"
   ]
  }
 ],
 "metadata": {
  "colab": {
   "collapsed_sections": [
    "Rgo2Lq95aO-C"
   ],
   "provenance": []
  },
  "kernelspec": {
   "display_name": "Python [conda env:capstone]",
   "language": "python",
   "name": "conda-env-capstone-py"
  },
  "language_info": {
   "codemirror_mode": {
    "name": "ipython",
    "version": 3
   },
   "file_extension": ".py",
   "mimetype": "text/x-python",
   "name": "python",
   "nbconvert_exporter": "python",
   "pygments_lexer": "ipython3",
   "version": "3.9.15"
  }
 },
 "nbformat": 4,
 "nbformat_minor": 5
}
